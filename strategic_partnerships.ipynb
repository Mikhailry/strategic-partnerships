{
 "cells": [
  {
   "cell_type": "code",
   "execution_count": 1,
   "metadata": {},
   "outputs": [],
   "source": [
    "# import libraries\n",
    "import pandas as pd\n",
    "import numpy as np\n",
    "\n",
    "from pyvis.network import Network\n",
    "import networkx as nx\n",
    "import matplotlib.pyplot as plt\n",
    "\n",
    "from collections import Counter\n",
    "import colorsys"
   ]
  },
  {
   "cell_type": "code",
   "execution_count": 2,
   "metadata": {},
   "outputs": [],
   "source": [
    "# import data from xlsx file\n",
    "df = pd.read_excel('data/AI Partnerships.xlsx', sheet_name='data')\n",
    "\n",
    "# rename 'source' column to 'partner1' and 'target' column to 'partner2'\n",
    "df = df.rename(columns={'source': 'partner1', 'target': 'partner2', 'Type': 'type'})"
   ]
  },
  {
   "cell_type": "code",
   "execution_count": 4,
   "metadata": {},
   "outputs": [],
   "source": [
    "# rename some of the labels\n",
    "df['type'] = df['type'].replace('Build real life applications', 'Real-life apps')\n",
    "df['type'] = df['type'].replace('Building a platform', 'Platform')\n",
    "df['type'] = df['type'].replace('Distribution (not mere \"sell-to\" motion)', 'Distribution')"
   ]
  },
  {
   "cell_type": "code",
   "execution_count": 5,
   "metadata": {},
   "outputs": [],
   "source": [
    "df[['partner1', 'partner2']] = df.apply(lambda row: pd.Series(sorted([row['partner1'], row['partner2']])), axis=1)\n",
    "\n",
    "# group data by 'type', 'source' and 'target' columns and sum 'weight' column\n",
    "df = df.groupby(['type','partner1', 'partner2']).sum().reset_index()\n",
    "\n",
    "# create a list of all companies\n",
    "all_companies = set(df['partner1'].tolist() + df['partner2'].tolist())"
   ]
  },
  {
   "cell_type": "code",
   "execution_count": 12,
   "metadata": {},
   "outputs": [
    {
     "name": "stdout",
     "output_type": "stream",
     "text": [
      "index.html\n"
     ]
    },
    {
     "data": {
      "text/html": [
       "\n",
       "        <iframe\n",
       "            width=\"100%\"\n",
       "            height=\"100%\"\n",
       "            src=\"index.html\"\n",
       "            frameborder=\"0\"\n",
       "            allowfullscreen\n",
       "            \n",
       "        ></iframe>\n",
       "        "
      ],
      "text/plain": [
       "<IPython.lib.display.IFrame at 0x106128be0>"
      ]
     },
     "execution_count": 12,
     "metadata": {},
     "output_type": "execute_result"
    }
   ],
   "source": [
    "# Create a NetworkX graph\n",
    "G = nx.Graph()\n",
    "\n",
    "# Add edges to the graph\n",
    "for _, row in df.iterrows():\n",
    "    G.add_edge(row['partner1'], row['partner2'], type=row['type'])\n",
    "\n",
    "# Calculate degree for each node\n",
    "degrees = dict(G.degree())\n",
    "\n",
    "\n",
    "# Normalize degrees to use as node sizes\n",
    "max_degree = max(degrees.values())\n",
    "min_size, max_size = 5, 100  # Min and max node sizes\n",
    "normalized_degrees = {node: ((degree / max_degree) * (max_size - min_size) + min_size) \n",
    "                      for node, degree in degrees.items()}\n",
    "\n",
    "\n",
    "# Create a Pyvis network\n",
    "net = Network(notebook=True, directed=False ,width=\"100%\", height=\"100%\", font_color=\"#FAC13C\", bgcolor=\"#1A1D24\" ,cdn_resources='remote', select_menu=True, filter_menu=True)\n",
    "\n",
    "# Define the list of companies to have the same color\n",
    "special_companies = ['OpenAI', 'Anthropic', 'Cohere', 'Mistral', 'Microsoft', 'Meta', 'Perplexity', 'NVIDIA', 'Google', 'AWS', 'Snowflake', 'Databricks', 'Hugging Face', 'Scale AI']\n",
    "\n",
    "# Define color map\n",
    "color_map = {\n",
    "    'AI Safety': '#10BFCC', # Teal\n",
    "    'Real-life apps': '#A0C98B', # Green\n",
    "    'Platform': '#DB6FBF', # Pink\n",
    "    'Compute / AI infra': '#e8702a', # Yellow\n",
    "    'Data - News outlets': '#2c852d', # Dark green\n",
    "    'Data - Other': '#1F85DE', # Blue\n",
    "    'Distribution': '#E46476', # Red\n",
    "    'R&D': '#9E7FCC', # Purple\n",
    "    'Primary nodes': '#FAC13C' #gold\n",
    "}\n",
    "\n",
    "\n",
    "# Get unique companies\n",
    "unique_companies = set(df['partner1'].unique()) | set(df['partner2'].unique())\n",
    "\n",
    "# Function to get company color\n",
    "def get_company_color(company):\n",
    "    if company in special_companies:\n",
    "        return color_map['Primary nodes']\n",
    "    company_types = df[(df['partner1'] == company) | (df['partner2'] == company)]['type'].unique()\n",
    "    if len(company_types) > 0:\n",
    "        return color_map.get(company_types[0], '#FFFFFF')  # White as default if type not in color_map\n",
    "    return '#FFFFFF'  # White as default\n",
    "\n",
    "\n",
    "# Add nodes to the network with size based on degree and color based on type\n",
    "for company in unique_companies:\n",
    "    size = normalized_degrees.get(company, min_size)  # Use min_size if company not in degrees\n",
    "    degree = degrees.get(company, 0)  # Use 0 if company not in degrees\n",
    "    color = get_company_color(company)\n",
    "    net.add_node(company, label=company, title=f\"{company}\\nPartnerships: {degree}\", size=size, color=color)\n",
    "\n",
    "\n",
    "# Add edges to the network\n",
    "for _, row in df.iterrows():\n",
    "    edge_color = color_map['Primary nodes'] if row['partner1'] in special_companies and row['partner2'] in special_companies else color_map.get(row['type'], '#FFFFFF')\n",
    "    net.add_edge(row['partner1'], row['partner2'], title=row['type'], color={'color': edge_color, 'opacity': 0.4})\n",
    "\n",
    "\n",
    "# Set physics layout\n",
    "#net.barnes_hut(gravity=-10000, central_gravity=0.3, spring_length=200, spring_strength=0.05, damping=0.09)\n",
    "#net.barnes_hut(gravity=-15000, central_gravity=0.2, spring_length=300, spring_strength=0.04, damping=0.09)\n",
    "#net.barnes_hut(gravity=-20000, central_gravity=0.1, spring_length=400, spring_strength=0.04, damping=0.09)\n",
    "#net.repulsion(node_distance=200, central_gravity=0.1, spring_length=200, spring_strength=0.04, damping=0.09)\n",
    "net.force_atlas_2based(gravity=-50, central_gravity=0.01, spring_length=100, spring_strength=0.08, damping=0.4, overlap=0)\n",
    "\n",
    "\n",
    "# show buttons\n",
    "net.show_buttons()\n",
    "\n",
    "# Generate the HTML file\n",
    "#net.show(\"AI strategic partnerships.html\")\n",
    "net.show(\"index.html\")"
   ]
  },
  {
   "cell_type": "code",
   "execution_count": 13,
   "metadata": {},
   "outputs": [
    {
     "name": "stdout",
     "output_type": "stream",
     "text": [
      "index.html\n"
     ]
    }
   ],
   "source": [
    "# Add a legend for partnership types\n",
    "legend_html = \"<div style='position:absolute; top:300px; left:10px; background-color:rgba(255,255,255,0.7); padding:10px; border-radius:5px;'>\"\n",
    "legend_html += \"<h3>Partnership Types</h3>\"\n",
    "for partnership, color in color_map.items():\n",
    "    legend_html += f\"<div><span style='display:inline-block; width:20px; height:20px; background-color:{color};'></span> {partnership}</div>\"\n",
    "legend_html += \"</div>\"\n",
    "\n",
    "\n",
    "# Generate the graph with legend\n",
    "net.show(\"index.html\", notebook=False)\n",
    "\n",
    "# Add legend to the generated HTML file\n",
    "with open(\"index.html\", \"r\") as file:\n",
    "    content = file.read()\n",
    "    content = content.replace(\"</body>\", f\"{legend_html}</body>\")\n",
    "\n",
    "with open(\"index.html\", \"w\") as file:\n",
    "    file.write(content)"
   ]
  }
 ],
 "metadata": {
  "kernelspec": {
   "display_name": "dataViz",
   "language": "python",
   "name": "python3"
  },
  "language_info": {
   "codemirror_mode": {
    "name": "ipython",
    "version": 3
   },
   "file_extension": ".py",
   "mimetype": "text/x-python",
   "name": "python",
   "nbconvert_exporter": "python",
   "pygments_lexer": "ipython3",
   "version": "3.10.14"
  }
 },
 "nbformat": 4,
 "nbformat_minor": 2
}
